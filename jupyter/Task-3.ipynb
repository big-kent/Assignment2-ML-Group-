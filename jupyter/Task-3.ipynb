{
 "cells": [
  {
   "cell_type": "code",
   "execution_count": 8,
   "id": "fe68cbcd-df1a-43b5-a487-69f2200b27c0",
   "metadata": {},
   "outputs": [],
   "source": [
    "import os\n",
    "import cv2\n",
    "import numpy as np\n",
    "import pandas as pd\n",
    "from tqdm import tqdm\n",
    "import matplotlib.pyplot as plt\n",
    "import seaborn as sns\n",
    "\n",
    "from sklearn.model_selection import train_test_split\n",
    "from sklearn.preprocessing import LabelEncoder\n",
    "from sklearn.metrics import classification_report, confusion_matrix\n",
    "from sklearn.neighbors import NearestNeighbors\n",
    "from sklearn.metrics.pairwise import cosine_similarity\n",
    "\n",
    "from tensorflow.keras.models import Model, Sequential\n",
    "from tensorflow.keras.layers import Conv2D, MaxPooling2D, Flatten, Dense, Dropout, Input\n",
    "from tensorflow.keras.optimizers import Adam\n",
    "from tensorflow.keras.utils import to_categorical"
   ]
  },
  {
   "cell_type": "code",
   "execution_count": 9,
   "id": "54b8d7a8-948c-49bd-982f-1ea4e2f5b841",
   "metadata": {},
   "outputs": [
    {
     "name": "stdout",
     "output_type": "stream",
     "text": [
      "Loaded 201 images from the dataset.\n"
     ]
    }
   ],
   "source": [
    "# Data preparation function for categories\n",
    "def load_and_preprocess_images(directory, image_size=(224, 224)):\n",
    "    images = []\n",
    "    labels = []\n",
    "    paths = []\n",
    "    for subdir, dirs, files in os.walk(directory):\n",
    "        for file in files:\n",
    "            if file.endswith(\".jpg\") or file.endswith(\".png\"):\n",
    "                img_path = os.path.join(subdir, file)\n",
    "                image = cv2.imread(img_path)\n",
    "                if image is not None:\n",
    "                    image = cv2.resize(image, image_size)\n",
    "                    image = image / 255.0  # Normalize\n",
    "                    images.append(image)\n",
    "                    labels.append(subdir.split(os.sep)[-2])  # Use the parent directory as label\n",
    "                    paths.append(img_path)\n",
    "    return np.array(images), labels, paths\n",
    "\n",
    "# Load images from the provided dataset directory\n",
    "dataset_dir = 'train'  # Specify your dataset directory here\n",
    "images, labels, image_paths = load_and_preprocess_images(dataset_dir)\n",
    "print(f\"Loaded {len(images)} images from the dataset.\")"
   ]
  },
  {
   "cell_type": "code",
   "execution_count": 10,
   "id": "caeec02d-59f4-45df-9703-6d9d64d6dc86",
   "metadata": {},
   "outputs": [
    {
     "name": "stdout",
     "output_type": "stream",
     "text": [
      "Loaded 201 images with styles from the dataset.\n"
     ]
    }
   ],
   "source": [
    "# Data preparation function for styles\n",
    "def load_and_preprocess_images_with_styles(directory, image_size=(224, 224)):\n",
    "    images = []\n",
    "    styles = []\n",
    "    paths = []\n",
    "    for subdir, dirs, files in os.walk(directory):\n",
    "        for file in files:\n",
    "            if file.endswith(\".jpg\") or file.endswith(\".png\"):\n",
    "                img_path = os.path.join(subdir, file)\n",
    "                image = cv2.imread(img_path)\n",
    "                if image is not None:\n",
    "                    image = cv2.resize(image, image_size)\n",
    "                    image = image / 255.0  # Normalize\n",
    "                    images.append(image)\n",
    "                    styles.append(subdir.split(os.sep)[-1])  # Use the grandparent directory as style\n",
    "                    paths.append(img_path)\n",
    "    return np.array(images), styles, paths\n",
    "\n",
    "# Load images and styles from the provided dataset directory\n",
    "images, styles, image_paths = load_and_preprocess_images_with_styles(dataset_dir)\n",
    "print(f\"Loaded {len(images)} images with styles from the dataset.\")"
   ]
  },
  {
   "cell_type": "code",
   "execution_count": 11,
   "id": "7f2af4a3-fed0-4a27-829b-f057d54df558",
   "metadata": {},
   "outputs": [],
   "source": [
    "# Prepare data for training category model\n",
    "label_encoder = LabelEncoder()\n",
    "labels_encoded = label_encoder.fit_transform(labels)\n",
    "labels_categorical = to_categorical(labels_encoded)\n",
    "\n",
    "# Split data into training and validation sets for category classification\n",
    "X_train, X_val, y_train, y_val = train_test_split(images, labels_categorical, test_size=0.2, random_state=42)"
   ]
  },
  {
   "cell_type": "code",
   "execution_count": 12,
   "id": "ba00ca35-e236-43c5-9965-367adfb0b0ee",
   "metadata": {},
   "outputs": [],
   "source": [
    "# Prepare data for training style classification model\n",
    "style_encoder = LabelEncoder()\n",
    "styles_encoded = style_encoder.fit_transform(styles)\n",
    "styles_categorical = to_categorical(styles_encoded)\n",
    "\n",
    "# Split data into training and validation sets for style classification\n",
    "X_train_style, X_val_style, y_train_style, y_val_style = train_test_split(images, styles_categorical, test_size=0.2, random_state=42)"
   ]
  },
  {
   "cell_type": "code",
   "execution_count": 13,
   "id": "2200bdb8-919d-4053-b570-5dbe25e969f1",
   "metadata": {},
   "outputs": [],
   "source": [
    "# Number of classes and styles\n",
    "num_classes = len(np.unique(labels))\n",
    "num_styles = len(np.unique(styles))"
   ]
  },
  {
   "cell_type": "code",
   "execution_count": 14,
   "id": "4cd06e92-578b-4019-b8cf-ee98cccbe647",
   "metadata": {},
   "outputs": [
    {
     "name": "stderr",
     "output_type": "stream",
     "text": [
      "E:\\Old Files\\Machine Learning\\New folder\\Lib\\site-packages\\keras\\src\\layers\\convolutional\\base_conv.py:107: UserWarning: Do not pass an `input_shape`/`input_dim` argument to a layer. When using Sequential models, prefer using an `Input(shape)` object as the first layer in the model instead.\n",
      "  super().__init__(activity_regularizer=activity_regularizer, **kwargs)\n"
     ]
    }
   ],
   "source": [
    "# Define and train the enhanced CNN model for category classification\n",
    "def build_enhanced_cnn_model(input_shape, num_classes):\n",
    "    model = Sequential([\n",
    "        Conv2D(32, (3, 3), activation='relu', input_shape=input_shape),\n",
    "        MaxPooling2D((2, 2)),\n",
    "        Conv2D(64, (3, 3), activation='relu'),\n",
    "        MaxPooling2D((2, 2)),\n",
    "        Conv2D(128, (3, 3), activation='relu'),\n",
    "        MaxPooling2D((2, 2)),\n",
    "        Conv2D(256, (3, 3), activation='relu'),\n",
    "        MaxPooling2D((2, 2)),\n",
    "        Flatten(),\n",
    "        Dense(512, activation='relu'),\n",
    "        Dropout(0.5),\n",
    "        Dense(num_classes, activation='softmax')\n",
    "    ])\n",
    "    \n",
    "    model.compile(optimizer=Adam(), loss='categorical_crossentropy', metrics=['accuracy'])\n",
    "    return model\n",
    "\n",
    "cnn_model = build_enhanced_cnn_model((224, 224, 3), num_classes)"
   ]
  },
  {
   "cell_type": "code",
   "execution_count": null,
   "id": "0c8f8972-c2f5-47ec-a9d3-ce3416786db0",
   "metadata": {},
   "outputs": [
    {
     "name": "stdout",
     "output_type": "stream",
     "text": [
      "Epoch 1/20\n",
      "\u001b[1m5/5\u001b[0m \u001b[32m━━━━━━━━━━━━━━━━━━━━\u001b[0m\u001b[37m\u001b[0m \u001b[1m13s\u001b[0m 2s/step - accuracy: 0.5735 - loss: 1.2102 - val_accuracy: 0.5366 - val_loss: 0.7703\n",
      "Epoch 2/20\n"
     ]
    }
   ],
   "source": [
    "# Train the enhanced CNN model for categories\n",
    "history = cnn_model.fit(X_train, y_train, epochs=20, validation_data=(X_val, y_val))\n",
    "\n",
    "# Define and train the enhanced CNN model for style classification\n",
    "style_model = build_enhanced_cnn_model((224, 224, 3), num_styles)\n",
    "\n",
    "# Train the style classification model\n",
    "style_model.fit(X_train_style, y_train_style, epochs=20, validation_data=(X_val_style, y_val_style))\n",
    "\n",
    "# Ensure the model is built by calling it with some input data\n",
    "cnn_model.predict(np.expand_dims(images[0], axis=0))\n",
    "style_model.predict(np.expand_dims(images[0], axis=0))\n",
    "\n",
    "# Create models to extract features from the penultimate layer\n",
    "feature_extractor = Model(inputs=cnn_model.input, outputs=cnn_model.layers[-2].output)\n",
    "style_feature_extractor = Model(inputs=style_model.input, outputs=style_model.layers[-2].output)\n",
    "\n",
    "# Extract features for the entire dataset\n",
    "features = feature_extractor.predict(images)\n",
    "style_features = style_feature_extractor.predict(images)\n",
    "print(f\"Extracted features for {len(features)} images.\")\n",
    "print(f\"Extracted style features for {len(style_features)} images.\")"
   ]
  },
  {
   "cell_type": "code",
   "execution_count": null,
   "id": "54f5e9da-362b-4e19-9589-04c1d1969ba6",
   "metadata": {},
   "outputs": [],
   "source": [
    "# Function to find similar images with matching styles\n",
    "def find_similar_images_with_style(input_image_path, feature_model, style_model, features, styles, image_paths, top_n=10):\n",
    "    input_image = cv2.imread(input_image_path)\n",
    "    input_image = cv2.resize(input_image, (224, 224)) / 255.0\n",
    "    input_image = np.expand_dims(input_image, axis=0)\n",
    "    \n",
    "    # Extract features and style of the input image\n",
    "    input_features = feature_model.predict(input_image)\n",
    "    input_style = np.argmax(style_model.predict(input_image), axis=1)[0]\n",
    "    \n",
    "    # Find similar images\n",
    "    similarities = cosine_similarity(input_features, features)\n",
    "    similar_indices = np.argsort(similarities[0])[::-1]\n",
    "    \n",
    "    # Filter similar images by matching style\n",
    "    matching_style_images = [image_paths[idx] for idx in similar_indices if styles[idx] == input_style][:top_n]\n",
    "    return matching_style_images\n",
    "\n",
    "# Example usage\n",
    "input_image_path = 'test-pic4.jpg'  # Provide the path to an input image\n",
    "similar_images_with_style = find_similar_images_with_style(input_image_path, feature_extractor, style_model, features, styles, image_paths)"
   ]
  },
  {
   "cell_type": "code",
   "execution_count": null,
   "id": "7a5e8aeb-e522-4a85-ab82-4f637230664c",
   "metadata": {},
   "outputs": [],
   "source": [
    "# Function to display images\n",
    "def display_images(image_paths):\n",
    "    plt.figure(figsize=(15, 10))\n",
    "    for i, img_path in enumerate(image_paths):\n",
    "        img = cv2.imread(img_path)\n",
    "        plt.subplot(2, 5, i + 1)\n",
    "        plt.imshow(cv2.cvtColor(img, cv2.COLOR_BGR2RGB))\n",
    "        plt.axis('off')\n",
    "        plt.title(os.path.basename(img_path))\n",
    "    plt.show()\n",
    "\n",
    "# Display similar images with matching style\n",
    "display_images(similar_images_with_style)"
   ]
  },
  {
   "cell_type": "code",
   "execution_count": null,
   "id": "f861f8e2-be20-48c2-b035-602c852bf8ee",
   "metadata": {},
   "outputs": [],
   "source": []
  }
 ],
 "metadata": {
  "kernelspec": {
   "display_name": "Python 3 (ipykernel)",
   "language": "python",
   "name": "python3"
  },
  "language_info": {
   "codemirror_mode": {
    "name": "ipython",
    "version": 3
   },
   "file_extension": ".py",
   "mimetype": "text/x-python",
   "name": "python",
   "nbconvert_exporter": "python",
   "pygments_lexer": "ipython3",
   "version": "3.11.5"
  }
 },
 "nbformat": 4,
 "nbformat_minor": 5
}
